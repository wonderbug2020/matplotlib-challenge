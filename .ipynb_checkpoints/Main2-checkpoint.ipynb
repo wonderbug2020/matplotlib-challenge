{
 "cells": [
  {
   "cell_type": "code",
   "execution_count": 2,
   "metadata": {},
   "outputs": [],
   "source": [
    "#Import needed libraries\n",
    "import pandas as pd\n",
    "import matplotlib.pyplot as plt\n",
    "import scipy.stats as st"
   ]
  },
  {
   "cell_type": "code",
   "execution_count": 3,
   "metadata": {},
   "outputs": [],
   "source": [
    "#Load files into dataframes\n",
    "mouse_metadata = pd.read_csv(\"data/mouse_metadata.csv\")\n",
    "study_results = pd.read_csv(\"data/Study_results.csv\")"
   ]
  },
  {
   "cell_type": "code",
   "execution_count": 7,
   "metadata": {},
   "outputs": [
    {
     "data": {
      "text/plain": [
       "Ceftamin     25\n",
       "Infubinol    25\n",
       "Ketapril     25\n",
       "Placebo      25\n",
       "Propriva     25\n",
       "Ramicane     25\n",
       "Zoniferol    25\n",
       "Capomulin    25\n",
       "Naftisol     25\n",
       "Stelasyn     24\n",
       "Name: Drug Regimen, dtype: int64"
      ]
     },
     "execution_count": 7,
     "metadata": {},
     "output_type": "execute_result"
    }
   ],
   "source": [
    "#Next to merge the data into one dataframe \n",
    "study_metadata = pd.merge(mouse_metadata,study_results,on='Mouse ID')\n",
    "#This is a dataframe i'm going to use several times later in the homework\n",
    "individual_mice = study_metadata.drop_duplicates(subset=['Mouse ID'])\n",
    "individual_mice['Drug Regimen'].value_counts()"
   ]
  },
  {
   "cell_type": "code",
   "execution_count": 9,
   "metadata": {},
   "outputs": [
    {
     "data": {
      "text/html": [
       "<div>\n",
       "<style scoped>\n",
       "    .dataframe tbody tr th:only-of-type {\n",
       "        vertical-align: middle;\n",
       "    }\n",
       "\n",
       "    .dataframe tbody tr th {\n",
       "        vertical-align: top;\n",
       "    }\n",
       "\n",
       "    .dataframe thead th {\n",
       "        text-align: right;\n",
       "    }\n",
       "</style>\n",
       "<table border=\"1\" class=\"dataframe\">\n",
       "  <thead>\n",
       "    <tr style=\"text-align: right;\">\n",
       "      <th></th>\n",
       "      <th>mean</th>\n",
       "      <th>median</th>\n",
       "      <th>var</th>\n",
       "      <th>std</th>\n",
       "      <th>sem</th>\n",
       "    </tr>\n",
       "    <tr>\n",
       "      <th>Drug Regimen</th>\n",
       "      <th></th>\n",
       "      <th></th>\n",
       "      <th></th>\n",
       "      <th></th>\n",
       "      <th></th>\n",
       "    </tr>\n",
       "  </thead>\n",
       "  <tbody>\n",
       "    <tr>\n",
       "      <th>Capomulin</th>\n",
       "      <td>40.675741</td>\n",
       "      <td>41.557809</td>\n",
       "      <td>24.947764</td>\n",
       "      <td>4.994774</td>\n",
       "      <td>0.329346</td>\n",
       "    </tr>\n",
       "    <tr>\n",
       "      <th>Ceftamin</th>\n",
       "      <td>52.591172</td>\n",
       "      <td>51.776157</td>\n",
       "      <td>39.290177</td>\n",
       "      <td>6.268188</td>\n",
       "      <td>0.469821</td>\n",
       "    </tr>\n",
       "    <tr>\n",
       "      <th>Infubinol</th>\n",
       "      <td>52.884795</td>\n",
       "      <td>51.820584</td>\n",
       "      <td>43.128684</td>\n",
       "      <td>6.567243</td>\n",
       "      <td>0.492236</td>\n",
       "    </tr>\n",
       "    <tr>\n",
       "      <th>Ketapril</th>\n",
       "      <td>55.235638</td>\n",
       "      <td>53.698743</td>\n",
       "      <td>68.553577</td>\n",
       "      <td>8.279709</td>\n",
       "      <td>0.603860</td>\n",
       "    </tr>\n",
       "    <tr>\n",
       "      <th>Naftisol</th>\n",
       "      <td>54.331565</td>\n",
       "      <td>52.509285</td>\n",
       "      <td>66.173479</td>\n",
       "      <td>8.134708</td>\n",
       "      <td>0.596466</td>\n",
       "    </tr>\n",
       "    <tr>\n",
       "      <th>Placebo</th>\n",
       "      <td>54.033581</td>\n",
       "      <td>52.288934</td>\n",
       "      <td>61.168083</td>\n",
       "      <td>7.821003</td>\n",
       "      <td>0.581331</td>\n",
       "    </tr>\n",
       "    <tr>\n",
       "      <th>Propriva</th>\n",
       "      <td>52.322552</td>\n",
       "      <td>50.854632</td>\n",
       "      <td>42.351070</td>\n",
       "      <td>6.507770</td>\n",
       "      <td>0.512884</td>\n",
       "    </tr>\n",
       "    <tr>\n",
       "      <th>Ramicane</th>\n",
       "      <td>40.216745</td>\n",
       "      <td>40.673236</td>\n",
       "      <td>23.486704</td>\n",
       "      <td>4.846308</td>\n",
       "      <td>0.320955</td>\n",
       "    </tr>\n",
       "    <tr>\n",
       "      <th>Stelasyn</th>\n",
       "      <td>54.233149</td>\n",
       "      <td>52.431737</td>\n",
       "      <td>59.450562</td>\n",
       "      <td>7.710419</td>\n",
       "      <td>0.573111</td>\n",
       "    </tr>\n",
       "    <tr>\n",
       "      <th>Zoniferol</th>\n",
       "      <td>53.236507</td>\n",
       "      <td>51.818479</td>\n",
       "      <td>48.533355</td>\n",
       "      <td>6.966589</td>\n",
       "      <td>0.516398</td>\n",
       "    </tr>\n",
       "  </tbody>\n",
       "</table>\n",
       "</div>"
      ],
      "text/plain": [
       "                   mean     median        var       std       sem\n",
       "Drug Regimen                                                     \n",
       "Capomulin     40.675741  41.557809  24.947764  4.994774  0.329346\n",
       "Ceftamin      52.591172  51.776157  39.290177  6.268188  0.469821\n",
       "Infubinol     52.884795  51.820584  43.128684  6.567243  0.492236\n",
       "Ketapril      55.235638  53.698743  68.553577  8.279709  0.603860\n",
       "Naftisol      54.331565  52.509285  66.173479  8.134708  0.596466\n",
       "Placebo       54.033581  52.288934  61.168083  7.821003  0.581331\n",
       "Propriva      52.322552  50.854632  42.351070  6.507770  0.512884\n",
       "Ramicane      40.216745  40.673236  23.486704  4.846308  0.320955\n",
       "Stelasyn      54.233149  52.431737  59.450562  7.710419  0.573111\n",
       "Zoniferol     53.236507  51.818479  48.533355  6.966589  0.516398"
      ]
     },
     "execution_count": 9,
     "metadata": {},
     "output_type": "execute_result"
    }
   ],
   "source": [
    "#First up we are asked to print out a summary table of common statistics. This is easily done using .agg and groupby\n",
    "stat_sum = study_metadata.groupby('Drug Regimen')['Tumor Volume (mm3)'].agg(['mean','median','var','std','sem'])\n",
    "stat_sum"
   ]
  },
  {
   "cell_type": "code",
   "execution_count": 12,
   "metadata": {},
   "outputs": [
    {
     "data": {
      "text/plain": [
       "Text(0.5, 0, 'Drug')"
      ]
     },
     "execution_count": 12,
     "metadata": {},
     "output_type": "execute_result"
    },
    {
     "data": {
      "image/png": "[encoded data removed]",
      "text/plain": [
       "<Figure size 432x288 with 1 Axes>"
      ]
     },
     "metadata": {
      "needs_background": "light"
     },
     "output_type": "display_data"
    }
   ],
   "source": [
    "#Now to make a bar chart showing the relative number of datapoints for each regimen using pandas\n",
    "individual_mice['Drug Regimen'].value_counts().plot(kind='bar')\n",
    "plt.title('# of mice in each drug regimen')\n",
    "plt.legend(['Drug Regimen'], loc=\"lower left\")\n",
    "plt.ylabel(\"Count\")\n",
    "plt.xlabel(\"Drug\")"
   ]
  },
  {
   "cell_type": "code",
   "execution_count": 13,
   "metadata": {},
   "outputs": [
    {
     "data": {
      "text/plain": [
       "Text(0.5, 0, 'Drug')"
      ]
     },
     "execution_count": 13,
     "metadata": {},
     "output_type": "execute_result"
    },
    {
     "data": {
      "image/png": "[encoded data removed]",
      "text/plain": [
       "<Figure size 432x288 with 1 Axes>"
      ]
     },
     "metadata": {
      "needs_background": "light"
     },
     "output_type": "display_data"
    }
   ],
   "source": [
    "#We are asked to do the same but this time using pyplot. For this we need to manually create the x and y variables i guess\n",
    "dr_y_axis = individual_mice['Drug Regimen'].value_counts()\n",
    "dr_x_axis = dr_y_axis.index\n",
    "plt.bar(dr_x_axis,dr_y_axis,width=0.55)\n",
    "plt.xticks(rotation=90)\n",
    "plt.title('# of mice in each drug regimen')\n",
    "plt.legend(['Drug Regimen'], loc=\"lower left\")\n",
    "plt.ylabel(\"Count\")\n",
    "plt.xlabel(\"Drug\")"
   ]
  },
  {
   "cell_type": "code",
   "execution_count": 12,
   "metadata": {},
   "outputs": [
    {
     "data": {
      "text/plain": [
       "Text(0.5, 1, 'Male vs Female')"
      ]
     },
     "execution_count": 12,
     "metadata": {},
     "output_type": "execute_result"
    },
    {
     "data": {
      "image/png": "[encoded data removed]",
      "text/plain": [
       "<Figure size 432x288 with 1 Axes>"
      ]
     },
     "metadata": {},
     "output_type": "display_data"
    }
   ],
   "source": [
    "#Now we want to do the same general thing but with a pie chart and the split between male and female mice\n",
    "individual_mice['Sex'].value_counts().plot(kind='pie',startangle=42,autopct=\"%1.1f%%\")\n",
    "plt.tight_layout()\n",
    "plt.title('Male vs Female')"
   ]
  },
  {
   "cell_type": "code",
   "execution_count": 13,
   "metadata": {},
   "outputs": [
    {
     "data": {
      "image/png": "[encoded data removed]",
      "text/plain": [
       "<Figure size 432x288 with 1 Axes>"
      ]
     },
     "metadata": {},
     "output_type": "display_data"
    }
   ],
   "source": [
    "sx_size = individual_mice['Sex'].value_counts()\n",
    "sx_labels = sx_size.index\n",
    "plt.pie(sx_size, labels=sx_labels,startangle=42,autopct=\"%1.1f%%\")\n",
    "plt.title('Male vs Female')\n",
    "plt.ylabel(\"Sex\")\n",
    "plt.tight_layout()"
   ]
  },
  {
   "cell_type": "code",
   "execution_count": 9,
   "metadata": {},
   "outputs": [
    {
     "name": "stdout",
     "output_type": "stream",
     "text": [
      "The IQR for final tumor volume of mice on drug Capomulin is 7.78. Any outliers will be lower than 20.7 or higher than 51.83\n",
      "This drug has 0 outlier(s)\n",
      "The IQR for final tumor volume of mice on drug Ramicane is 9.1. Any outliers will be lower than 17.91 or higher than 54.31\n",
      "This drug has 0 outlier(s)\n",
      "The IQR for final tumor volume of mice on drug Infubinol is 11.48. Any outliers will be lower than 36.83 or higher than 82.74\n",
      "This drug has 1 outlier(s)\n",
      "The IQR for final tumor volume of mice on drug Ceftamin is 15.58. Any outliers will be lower than 25.36 or higher than 87.67\n",
      "This drug has 0 outlier(s)\n"
     ]
    }
   ],
   "source": [
    "#Calculate the final tumor volume of each mouse across four of the most promising treatment regimens: Capomulin, Ramicane, Infubinol, and Ceftamin.\n",
    "#First thing that needs to done is to get the final volume which should just be the volume when the timepoint is max\n",
    "#This is a little trickier but rally all i need to do is groupup each mouse and find the max timepoint as the filter, then pass\n",
    "#that into a new dataframe\n",
    "final_vol_filter = study_metadata.groupby('Mouse ID')['Timepoint'].transform(max) == study_metadata['Timepoint']\n",
    "final_vol_df = study_metadata[final_vol_filter]\n",
    "\n",
    "#Here i ma going to write a function that i can pass a drug name into and it will spit out te stats i want\n",
    "def quar_stats(drug_name):\n",
    "    #First to set up the filter\n",
    "    drug_filter = final_vol_df['Drug Regimen'] == drug_name\n",
    "    drug_df = final_vol_df[drug_filter]\n",
    "    \n",
    "    #Now we want to find to IQR so that we can identify outliers. \n",
    "    quartiles = drug_df['Tumor Volume (mm3)'].quantile([0.25,0.5,0.75])\n",
    "    iqr = quartiles[0.75]-quartiles[.25]\n",
    "    lower_limit = round(quartiles[.25] - (1.5*iqr),2)\n",
    "    upper_limit = round(quartiles[.75] + (1.5*iqr),2)\n",
    "    \n",
    "    #now to print out the statistics\n",
    "    print(f'The IQR for final tumor volume of mice on drug {drug_name} is {round(iqr,2)}. Any outliers will be lower than {lower_limit} or higher than {upper_limit}')\n",
    "\n",
    "    #One last thing I can try to do is find outliers\n",
    "    drug_ol_df = drug_df[(drug_df['Tumor Volume (mm3)'] <= lower_limit) | (drug_df['Tumor Volume (mm3)'] >= upper_limit)]\n",
    "    print(f'This drug has {len(drug_ol_df)} outlier(s)')\n",
    "\n",
    "#Now to run the function for the 4 drugs in question\n",
    "quar_stats('Capomulin')\n",
    "quar_stats('Ramicane')\n",
    "quar_stats('Infubinol')\n",
    "quar_stats('Ceftamin')"
   ]
  },
  {
   "cell_type": "code",
   "execution_count": 11,
   "metadata": {},
   "outputs": [
    {
     "data": {
      "text/plain": [
       "([<matplotlib.axis.XTick at 0x222158dfcc0>,\n",
       "  <matplotlib.axis.XTick at 0x222158df588>,\n",
       "  <matplotlib.axis.XTick at 0x222158fe9e8>,\n",
       "  <matplotlib.axis.XTick at 0x2221594dbe0>],\n",
       " <a list of 4 Text xticklabel objects>)"
      ]
     },
     "execution_count": 11,
     "metadata": {},
     "output_type": "execute_result"
    },
    {
     "data": {
      "image/png": "[encoded data removed]",
      "text/plain": [
       "<Figure size 432x288 with 1 Axes>"
      ]
     },
     "metadata": {
      "needs_background": "light"
     },
     "output_type": "display_data"
    }
   ],
   "source": [
    "#Using the dataframe we created we are asked to make a box and whiskers plot\n",
    "#first to set up the filters\n",
    "drug_1 = final_vol_df['Drug Regimen'] == 'Capomulin'\n",
    "drug_2 = final_vol_df['Drug Regimen'] == 'Ramicane'\n",
    "drug_3 = final_vol_df['Drug Regimen'] == 'Infubinol'\n",
    "drug_4 = final_vol_df['Drug Regimen'] == 'Ceftamin'\n",
    "\n",
    "#Next to make the dataframes\n",
    "capomulin_df = final_vol_df[drug_1]\n",
    "ramicane_df = final_vol_df[drug_2]\n",
    "infubinol_df = final_vol_df[drug_3]\n",
    "ceftamin_df = final_vol_df[drug_4]\n",
    "\n",
    "#Then we can just pass those dataframes and the correct column into a boxplot\n",
    "plt.boxplot((capomulin_df['Tumor Volume (mm3)'],ramicane_df['Tumor Volume (mm3)'],\n",
    "             infubinol_df['Tumor Volume (mm3)'],ceftamin_df['Tumor Volume (mm3)']))\n",
    "plt.xticks([1,2,3,4],['capomulin','ramicane','infubinol','ceftamin'])"
   ]
  },
  {
   "cell_type": "code",
   "execution_count": 13,
   "metadata": {},
   "outputs": [
    {
     "data": {
      "text/plain": [
       "Text(0.5, 1.0, 'Mouse m957 trendline')"
      ]
     },
     "execution_count": 13,
     "metadata": {},
     "output_type": "execute_result"
    },
    {
     "data": {
      "image/png": "[encoded data removed]",
      "text/plain": [
       "<Figure size 432x288 with 1 Axes>"
      ]
     },
     "metadata": {
      "needs_background": "light"
     },
     "output_type": "display_data"
    }
   ],
   "source": [
    "#Generate a line plot of time point versus tumor volume for a single mouse treated with Capomulin.\n",
    "#using a rng I picked m957 as my mouse to track and need to filter a dataframe with just her data\n",
    "m957_filter = study_metadata['Mouse ID'] == \"m957\"\n",
    "m957_df = study_metadata[m957_filter]\n",
    "\n",
    "#Now to plot this data\n",
    "m957_df.plot('Timepoint','Tumor Volume (mm3)')\n",
    "plt.ylabel('Tumor Volume (mm3)')\n",
    "plt.legend(['m957'])\n",
    "plt.title(\"Mouse m957 trendline\")\n"
   ]
  },
  {
   "cell_type": "code",
   "execution_count": 14,
   "metadata": {},
   "outputs": [
    {
     "name": "stdout",
     "output_type": "stream",
     "text": [
      "The linear regression model for weight vs volume is 0.95x + 21.55\n",
      "and the correlation coefficient is 0.84\n"
     ]
    },
    {
     "data": {
      "text/plain": [
       "[<matplotlib.lines.Line2D at 0x22215a5cc50>]"
      ]
     },
     "execution_count": 14,
     "metadata": {},
     "output_type": "execute_result"
    },
    {
     "data": {
      "image/png": "[encoded data removed]",
      "text/plain": [
       "<Figure size 432x288 with 1 Axes>"
      ]
     },
     "metadata": {
      "needs_background": "light"
     },
     "output_type": "display_data"
    }
   ],
   "source": [
    "#for this next part we are to create a scatter plot of the weight vs tumor volume for mice on the capomulin drug\n",
    "#First we need to filter the original dataframe for only the requested drug. this is different from our previous filter\n",
    "capomulin_df_total = study_metadata[study_metadata['Drug Regimen'] == 'Capomulin']\n",
    "capomulin_df = capomulin_df_total.groupby(['Mouse ID']).mean()\n",
    "\n",
    "#Next we want to find the linear regression model and correlation coefficient for these datapoints which is easy with scipy\n",
    "#We ask for some additional information, uts just how this particular function works\n",
    "slope, intercept, r_value, p_value, std_err = st.linregress(capomulin_df['Weight (g)'],capomulin_df['Tumor Volume (mm3)'])\n",
    "print(f'The linear regression model for weight vs volume is {round(slope,2)}x + {round(intercept,2)}')\n",
    "print(f'and the correlation coefficient is {round(r_value,2)}')\n",
    "\n",
    "capomulin_df.plot.scatter('Weight (g)','Tumor Volume (mm3)')\n",
    "plt.plot(capomulin_df['Weight (g)'],slope*capomulin_df['Weight (g)'] + intercept,color=\"red\")"
   ]
  },
  {
   "cell_type": "code",
   "execution_count": 15,
   "metadata": {},
   "outputs": [],
   "source": [
    "#Write up\n",
    "#Starting with the initial box plox, it's not a lot to go off from by itself. Since it is the final measurement It appears to \n",
    "    #show that Capomulin and Ramicane are better drugs than Infubinol and Ceftamin. However, this doesn't tell the whole story\n",
    "    #It would be nice to have the initial state, or percent change even. Having said that perhaps random distribution of mice\n",
    "    # to any particular drug might show this is a somewhat accurate statement.\n",
    "#When we are asked to plot a trend for a single mouse, this is good coding practice but tells us absolutely nothing data wise\n",
    "    #Yes, that individual mouse has a downward trend, but the database doesn't even begin to cover other factors that might \n",
    "    #affect the tumor size such as diet, exercise, genes (assuming these mice aren't nearly identical). Having a sample\n",
    "    #can begin to tell a picture but a single mouse... if i saw this in a report i'd assume tey were cherry picking. \n",
    "#The last scatter plot is another example for good practice, not real application. For starters I'm assuming the  weight is of the mouse\n",
    "    #I can invision a non derivative way of caculating the weight of the tumor. So this is telling us bigger mice have bigger tumors?\n",
    "    #although more complicated it would have been cool to do a scatter plot of volume size vs time measurement, and a color scale\n",
    "    #for the drug regimin used. "
   ]
  },
  {
   "cell_type": "code",
   "execution_count": null,
   "metadata": {},
   "outputs": [],
   "source": []
  }
 ],
 "metadata": {
  "kernelspec": {
   "display_name": "Python 3",
   "language": "python",
   "name": "python3"
  },
  "language_info": {
   "codemirror_mode": {
    "name": "ipython",
    "version": 3
   },
   "file_extension": ".py",
   "mimetype": "text/x-python",
   "name": "python",
   "nbconvert_exporter": "python",
   "pygments_lexer": "ipython3",
   "version": "3.7.3"
  }
 },
 "nbformat": 4,
 "nbformat_minor": 4
}
